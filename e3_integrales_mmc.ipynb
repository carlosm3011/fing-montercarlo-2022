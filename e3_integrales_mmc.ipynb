{
 "cells": [
  {
   "cell_type": "markdown",
   "id": "98ca3f70",
   "metadata": {},
   "source": [
    "# Métodos Montecarlo Fing 2022 - Entrega 3 \n",
    "\n",
    "## Ejercicio 6.1\n",
    "\n",
    "se idealiza una montan ̃a como un cono inscrito en una regi ́on cuadrada de lado 1 km. La base de la montan ̃a es circular, con centro en (0.5, 0.5) y radio r = 0.4km, y la altura es H = 8km. La altura de cada punto (x, y) de la montaña está dada por la función:\n",
    "\n",
    "f (x, y) = H − H/r × sqrt((x − 0.5)2 + (y − 0.5)2), en la zona definida por el círculo, y 0 fuera del círculo.\n",
    "\n",
    "El volumen total de la montaña (en km cúbicos) puede verse como la integral de la función altura en la región.\n",
    "\n",
    "**Parte a:**\n",
    "\n",
    "Escribir un programa para calcular el volu ́men por Monte Carlo. Realizar 10^6 replicaciones y estimar el valor de ζ y el error cometido (con nivel de confianza 0.95), utilizando como criterio la aproximación normal."
   ]
  },
  {
   "cell_type": "code",
   "execution_count": 1,
   "id": "42d7e51f",
   "metadata": {},
   "outputs": [
    {
     "data": {
      "text/plain": [
       "'Integracion MMC v0.1 - Carlos Martinez abril 2022'"
      ]
     },
     "execution_count": 1,
     "metadata": {},
     "output_type": "execute_result"
    }
   ],
   "source": [
    "import cm2c.fing.mmc.integral as mmci\n",
    "mmci.version()"
   ]
  },
  {
   "cell_type": "code",
   "execution_count": 3,
   "id": "70a472ee",
   "metadata": {},
   "outputs": [
    {
     "name": "stdout",
     "output_type": "stream",
     "text": [
      "El resultado debe aproximarse a 1/3:  (0.33328596064098603, 8.869346710504991e-07)\n"
     ]
    }
   ],
   "source": [
    "# Validacion: integro f(x) = x**2 en (0,1)\n",
    "\n",
    "import math\n",
    "\n",
    "r = mmci.integracionMonteCarlo(lambda x: x[0]**2, 1, 10**5)\n",
    "\n",
    "print(\"El resultado debe aproximarse a 1/3: \", r)"
   ]
  },
  {
   "cell_type": "markdown",
   "id": "0fa88b6f",
   "metadata": {},
   "source": [
    "Ahora, para resolver el problema del volumen de la montaña defino una función en R2 que me devuelva la altura de la montaña abstracta:"
   ]
  },
  {
   "cell_type": "code",
   "execution_count": 8,
   "id": "9f197ed5",
   "metadata": {},
   "outputs": [
    {
     "name": "stdout",
     "output_type": "stream",
     "text": [
      "Volumen estimado por MMC 1.33979 km3\n",
      "Varianza estimada : 1.33979e+00\n",
      "Intervalo de confianza para delta 0.05 : (1.33608, 1.34349) \n",
      "Error estimado: 0.00370\n"
     ]
    }
   ],
   "source": [
    "H = 8.0 # altura en km\n",
    "r = 0.4 # radio de la base en km\n",
    "n = 10**6 # cantidad de muestras para la parte (a)\n",
    "delta = 0.05\n",
    "\n",
    "import math\n",
    "\n",
    "def Montana(x):\n",
    "    \"\"\"\n",
    "    x es un vector de dos elementos\n",
    "    devuelve la altura estimada\n",
    "    \"\"\"\n",
    "    \n",
    "    # calculo distancia al centro\n",
    "    d = math.sqrt( (x[0]-0.5)**2 + (x[1]-0.5)**2 )\n",
    "    \n",
    "    if d > 0.4:\n",
    "        return 0.0\n",
    "    else:\n",
    "        return H - (H/r)*d\n",
    "## end def Montana\n",
    "\n",
    "(estimZ, estimV) = mmci.integracionMonteCarlo(Montana, 2, n)\n",
    "(icn0, icn1) = mmci.intConfianzaAproxNormal(estimZ, estimV, n, delta)\n",
    "\n",
    "print(\"Volumen estimado por MMC {:.5f} km3\".format(estimZ))\n",
    "print(\"Varianza estimada : {:.5e}\".format(estimZ))\n",
    "print(\"Intervalo de confianza para delta {} : ({:.5f}, {:.5f}) \".format(delta, icn0, icn1))\n",
    "print(\"Error estimado: {:.5f}\".format(estimZ-icn0))"
   ]
  },
  {
   "cell_type": "code",
   "execution_count": null,
   "id": "0c4433ab",
   "metadata": {},
   "outputs": [],
   "source": []
  },
  {
   "cell_type": "markdown",
   "id": "6e4f0480",
   "metadata": {},
   "source": [
    "## Datos de software y hardware\n",
    "\n",
    "**Software:**\n",
    " - Python 3.9\n",
    " - Jupyter Notebook \n",
    " \n",
    "**Librerias:** \n",
    " - scipy norm\n",
    " - pathos multiprocessing\n",
    " \n",
    "**Hardware:**\n",
    "\n",
    " - Macbook Pro 2021, M1 Pro de 8 cores \n",
    " - MacOS Monterrey 12.3.1\n",
    " - 16 GB de RAM"
   ]
  },
  {
   "cell_type": "markdown",
   "id": "de901c08",
   "metadata": {},
   "source": [
    "## Código de las funciones \n",
    "\n",
    "TBW* antes de la entrega"
   ]
  }
 ],
 "metadata": {
  "kernelspec": {
   "display_name": "Python 3 (ipykernel)",
   "language": "python",
   "name": "python3"
  },
  "language_info": {
   "codemirror_mode": {
    "name": "ipython",
    "version": 3
   },
   "file_extension": ".py",
   "mimetype": "text/x-python",
   "name": "python",
   "nbconvert_exporter": "python",
   "pygments_lexer": "ipython3",
   "version": "3.9.12"
  }
 },
 "nbformat": 4,
 "nbformat_minor": 5
}
