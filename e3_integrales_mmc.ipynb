{
 "cells": [
  {
   "cell_type": "markdown",
   "id": "5f0e7827",
   "metadata": {},
   "source": [
    "# Métodos Montecarlo Fing 2022 - Entrega 3 \n",
    "\n",
    "## Ejercicio 6.1\n",
    "\n",
    "se idealiza una montan ̃a como un cono inscrito en una regi ́on cuadrada de lado 1 km. La base de la montan ̃a es circular, con centro en (0.5, 0.5) y radio r = 0.4km, y la altura es H = 8km. La altura de cada punto (x, y) de la montaña está dada por la función:\n",
    "\n",
    "f (x, y) = H − H/r × sqrt((x − 0.5)2 + (y − 0.5)2), en la zona definida por el círculo, y 0 fuera del círculo.\n",
    "\n",
    "El volumen total de la montaña (en km cúbicos) puede verse como la integral de la función altura en la región."
   ]
  },
  {
   "cell_type": "code",
   "execution_count": 1,
   "id": "148aa16e",
   "metadata": {},
   "outputs": [
    {
     "data": {
      "text/plain": [
       "'Integracion MMC v0.1 - Carlos Martinez abril 2022'"
      ]
     },
     "execution_count": 1,
     "metadata": {},
     "output_type": "execute_result"
    }
   ],
   "source": [
    "import cm2c.fing.mmc.integral as mmci\n",
    "mmci.version()"
   ]
  },
  {
   "cell_type": "code",
   "execution_count": 6,
   "id": "d54ab52a",
   "metadata": {},
   "outputs": [
    {
     "name": "stdout",
     "output_type": "stream",
     "text": [
      "El resultado debe aproximarse a 1/3:  (0.33376957308653576, 8.889635979800997e-07)\n"
     ]
    }
   ],
   "source": [
    "# Validacion: integro f(x) = x**2 en (0,1)\n",
    "\n",
    "import math\n",
    "\n",
    "r = mmci.integracionMonteCarlo(lambda x: x[0]**2, 1, 10**5, 0.05)\n",
    "\n",
    "print(\"El resultado debe aproximarse a 1/3: \", r)"
   ]
  },
  {
   "cell_type": "markdown",
   "id": "1ea7a806",
   "metadata": {},
   "source": [
    "Ahora, para resolver el problema del volumen de la montaña defino una función en R2 que me devuelva la altura de la montaña abstracta:"
   ]
  },
  {
   "cell_type": "code",
   "execution_count": 12,
   "id": "a0a71388",
   "metadata": {},
   "outputs": [
    {
     "name": "stdout",
     "output_type": "stream",
     "text": [
      "Volumen estimado por MMC 1.33870 km3\n",
      "Varianza estimada : 3.55259e-06\n"
     ]
    }
   ],
   "source": [
    "H = 8.0 # altura en km\n",
    "r = 0.4 # radio de la base en km\n",
    "\n",
    "import math\n",
    "\n",
    "def Montana(x):\n",
    "    \"\"\"\n",
    "    x es un vector de dos elementos\n",
    "    \"\"\"\n",
    "    \n",
    "    # calculo distancia al centro\n",
    "    d = math.sqrt( (x[0]-0.5)**2 + (x[1]-0.5)**2 )\n",
    "    \n",
    "    if d > 0.4:\n",
    "        return 0.0\n",
    "    else:\n",
    "        return H - (H/r)*d\n",
    "## end def Montana\n",
    "\n",
    "r = mmci.integracionMonteCarlo(Montana, 2, 10**6, 0.05)\n",
    "\n",
    "print(\"Volumen estimado por MMC {:.5f} km3\".format(r[0]))\n",
    "print(\"Varianza estimada : {:.5e}\".format(r[1]))"
   ]
  },
  {
   "cell_type": "code",
   "execution_count": null,
   "id": "fa91d104",
   "metadata": {},
   "outputs": [],
   "source": []
  },
  {
   "cell_type": "markdown",
   "id": "f5df0262",
   "metadata": {},
   "source": [
    "## Datos de software y hardware\n",
    "\n",
    "**Software:**\n",
    " - Python 3.9\n",
    " - Jupyter Notebook \n",
    " \n",
    "**Librerias:** \n",
    " - scipy norm\n",
    " - pathos multiprocessing\n",
    " \n",
    "**Hardware:**\n",
    "\n",
    " - Macbook Pro 2021, M1 Pro de 8 cores \n",
    " - MacOS Monterrey 12.3.1\n",
    " - 16 GB de RAM"
   ]
  },
  {
   "cell_type": "code",
   "execution_count": null,
   "id": "170a374f",
   "metadata": {},
   "outputs": [],
   "source": []
  }
 ],
 "metadata": {
  "kernelspec": {
   "display_name": "Python 3 (ipykernel)",
   "language": "python",
   "name": "python3"
  },
  "language_info": {
   "codemirror_mode": {
    "name": "ipython",
    "version": 3
   },
   "file_extension": ".py",
   "mimetype": "text/x-python",
   "name": "python",
   "nbconvert_exporter": "python",
   "pygments_lexer": "ipython3",
   "version": "3.9.12"
  }
 },
 "nbformat": 4,
 "nbformat_minor": 5
}
