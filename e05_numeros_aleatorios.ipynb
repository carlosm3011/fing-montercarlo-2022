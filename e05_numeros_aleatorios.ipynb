{
 "cells": [
  {
   "cell_type": "markdown",
   "id": "907cee1f",
   "metadata": {},
   "source": [
    "# Métodos Montecarlo Fing 2022 - Entrega 5 - Números aleatorios\n",
    "\n",
    "**Autor**: Carlos M. Martinez, mayo 2022. \n",
    "\n",
    "**Email**: carlosm@fing.edu.uy, carlos@cagnazzo.uy\n",
    "\n",
    "## Ejercicio 8.1\n",
    "\n",
    "### Parte a:\n",
    "\n",
    "Elegir al menos dos fuentes de números aleatorios disponibles en Internet (sitio o tabla con valores). Explicar cómo funcionan, como se accede a los números, y que características tienen.\n",
    "\n",
    "#### Fuente (1) QRNG Service de la Universidad de Berlín Humboldt\n",
    "\n",
    "Link: [Sitio web de la Universidad Humboldt de Beriln, QRNG](https://qrng.physik.hu-berlin.de/)\n",
    "\n",
    "El servicio QRNG de la Universidad Humboldt de Berín [QRNGBER](https://qrng.physik.hu-berlin.de/) es un servicio de generación de números aleatorios basado en un fenómeno físico, el tiempo de llegada de fotones a un sensor. ESte fenómeno tiene características cuánticas que hacen que naturalmente sea un fenómeno probabilistico. \n",
    "\n",
    "Según los autores los números aleatorios generados son de buena calidad y el equipo puede construirse relativamente a bajo costo.\n",
    "\n",
    "El acceso a [QRNGBER](https://qrng.physik.hu-berlin.de/) se realiza via web. El servicio requiere un registro previo pero no tiene costo. Le pueden bajar archivos de 1MB, 15MB y 100MB con bytes generados aleatoriamente. Los autores aseguran que ningun archivo bajado se repite, y de hecho tienen un contador en la página que muestra cuantos petabytes de \"random data\" llevan entregados.\n",
    "\n",
    "También los autores hacen disponible algunas utilidades y librerías que permiten acceder al servicio programáticamente sin bajar manualmente archivos. Lamentablemente no se encuentra una documentación del API de esta librería que permita por ejemplo escribir un cliente Python nativo.\n",
    "\n",
    "#### Fuente (2) RAND Book of 1 Million Random Numbers\n",
    "\n",
    "En 1947 la [RAND Corporation](https://www.rand.org), como respuesta a la creciente demanda de realización de simulaciones publicó una tabla de un millón de dígitos generados aleatoriamente. Para generar la primera edición de esta tabla construyeron un dispositivo que utilizaba una rueda de ruleta preparada de tal forma que el resultado de cada jugada podía ser leído por una computadora electrónica [Wiki1](https://en.wikipedia.org/wiki/A_Million_Random_Digits_with_100,000_Normal_Deviates). Durante muchos años esta tabla fue referencia obligada de expertos de diferentes areas de la ciencia.\n",
    "\n",
    "La lectura de los dígitos de la ruleta tenía sesgos significativos que fueron corregidos previamente a la producción de la tabla publicada.\n",
    "\n",
    "En 2001 RAND publicó una nueva edición de este libro, la cual está disponible gratuitamente a través de la web de RAND en [A Million Random Digits with 100,000 Normal Deviates](https://www.rand.org/pubs/monograph_reports/MR1418.html). "
   ]
  },
  {
   "cell_type": "code",
   "execution_count": 3,
   "id": "320378d7",
   "metadata": {},
   "outputs": [
    {
     "data": {
      "text/plain": [
       "'Problemas de conteo MMC v0.1.1 - Carlos Martinez mayo 2022'"
      ]
     },
     "execution_count": 3,
     "metadata": {},
     "output_type": "execute_result"
    }
   ],
   "source": [
    "import random\n",
    "import math\n",
    "import pandas\n",
    "from IPython.core.display import HTML\n",
    "random.seed()\n",
    "\n",
    "import cm2c.fing.mmc.conteo as mmc\n",
    "import cm2c.fing.mmc.utils as mmcutils\n",
    "reloj_ppal = mmcutils.timeit()\n",
    "mmc.version()"
   ]
  },
  {
   "cell_type": "markdown",
   "id": "624778f3",
   "metadata": {},
   "source": [
    "### Parte b:\n",
    "\n",
    "En base a este análisis, elegir una de las fuentes, fundamentar la selección, y modificar el ejercicio 3.1, parte a (visto en la sesión 3) para que\n",
    "emplee dichos números aleatorios (en lugar de los generados por bibliotecas como hasta el momento). Comparar si la salida obtenida es consistente o\n",
    "no con la obtenida en los experimentos de la parte a del ejercicio 3.1."
   ]
  },
  {
   "cell_type": "markdown",
   "id": "8a5b2b0a",
   "metadata": {},
   "source": [
    "## Datos adicionales y referencias\n",
    "\n",
    "### Información acerca del software y hardware utilizados\n",
    "\n",
    "**Software:**\n",
    " - Python 3.8.10 corriendo en Windows WSL2 (Windows Subsystem for Linux)\n",
    " - Jupyter Notebook \n",
    " \n",
    "**Librerias:** \n",
    " - scipy norm\n",
    " - pathos multiprocessing (para paralelizar ejecuciones)\n",
    " \n",
    "**Hardware:**\n",
    "\n",
    " - PC Windows 11, con WSL2\n",
    " - CPU Intel Core i5 10400F (6 cores, 12 threads de hardware)\n",
    " - 16 GB de RAM"
   ]
  },
  {
   "cell_type": "code",
   "execution_count": 4,
   "id": "4eabefb3",
   "metadata": {},
   "outputs": [
    {
     "name": "stdout",
     "output_type": "stream",
     "text": [
      "%% FIN - tiempo total de ejecución 0.100s\n"
     ]
    }
   ],
   "source": [
    "print(f\"%% FIN - tiempo total de ejecución {reloj_ppal.lap():.3f}s\")"
   ]
  },
  {
   "cell_type": "markdown",
   "id": "70469089",
   "metadata": {},
   "source": [
    "## Código de las funciones desarrolladas   \n",
    "\n",
    "Adjunto en el archivo _\"aleatorios.py.pdf\"_."
   ]
  }
 ],
 "metadata": {
  "interpreter": {
   "hash": "02660ba9e28c4086f0f0a2fdb5076d32451f0aa291fdc88708d8d2eeb326b78d"
  },
  "kernelspec": {
   "display_name": "Python 3.8.10 ('fing-montercarlo-2022.git-lPbgG7Xh')",
   "language": "python",
   "name": "python3"
  },
  "language_info": {
   "codemirror_mode": {
    "name": "ipython",
    "version": 3
   },
   "file_extension": ".py",
   "mimetype": "text/x-python",
   "name": "python",
   "nbconvert_exporter": "python",
   "pygments_lexer": "ipython3",
   "version": "3.8.10"
  }
 },
 "nbformat": 4,
 "nbformat_minor": 5
}
