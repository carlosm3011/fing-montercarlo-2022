{
 "cells": [
  {
   "cell_type": "markdown",
   "id": "9a55e065-efca-4447-9706-66aab56a459a",
   "metadata": {},
   "source": [
    "# Monte Carlo - Unidad 2, Sesion 3 - Ejercicio\n",
    "\n",
    "**[Problema]**: se desea estimar el volumen de una region R de [0,1]^6 definida por todos los puntos de la hiper-esfera de centro (0.45, 0.5, 0.6, 0.6, 0.5, 0.45) y radio 0.35 que ademas cumplen con las restricciones 3x1 + 7x4 <= 5; x3+x4 <= 1; x1-x2-x5+x6 >= 0"
   ]
  },
  {
   "cell_type": "markdown",
   "id": "a7d21f8a",
   "metadata": {},
   "source": [
    "## Entrega 2 - Ejercicio 3.1\n",
    "\n",
    "### Parte a: \n",
    "\n",
    "**[Letra]** Implementar un programa que reciba como parametro la\n",
    "cantidad de replicaciones n a realizar, y emplee Monte Carlo para\n",
    "calcular (e imprimir) la estimaci´on del volumen de R, y la desviaci´on\n",
    "estandar de este estimador. Incluir codigo para calcular el tiempo de\n",
    "calculo empleado por el programa. Utilizar el programa con n = 104 y\n",
    "luego con n = 106 para estimar el volumen de R. Discutir si los dos\n",
    "valores obtenidos parecen consistentes.\n",
    "(en la sesi´on 5 se continuar´a este ejercicio)."
   ]
  },
  {
   "cell_type": "code",
   "execution_count": 2,
   "id": "5a2d73bf-efac-4e53-aca6-d0bb52c42f4a",
   "metadata": {},
   "outputs": [],
   "source": [
    "import random\n",
    "import math\n",
    "import tabulate\n",
    "import time\n",
    "random.seed()\n",
    "\n",
    "def sortearPuntoRN(dim=2):\n",
    "    \"\"\"\n",
    "    Seortea un punto en R^N dentro del hiper-cubo [0,1]^N\n",
    "    \"\"\"\n",
    "    punto = []\n",
    "    for n in range(0, dim):\n",
    "        punto.append(random.uniform(0.0, 1.0))\n",
    "    # end for\n",
    "\n",
    "    return punto\n",
    "# end fun sortearPuntoRN\n",
    "\n",
    "def puntoDentroVolumen(punto, restricciones=True):\n",
    "    \"\"\"\n",
    "    Devuelve 0 o 1 si un punto esta fuera o dentro de un cierto volumen.\n",
    "    Si restricciones es \"false\", el volumen es la hiperesfera en R6\n",
    "    \"\"\"\n",
    "\n",
    "    # Para que este dentro del volumen tiene que estar dentro de la esfera \n",
    "    # y ademas cumplir con las restricciones adicionales\n",
    "\n",
    "    dentro = 1\n",
    "    fuera = 0\n",
    "\n",
    "    # chequeo 1 : dentro de esfera\n",
    "\n",
    "    d = math.sqrt(\n",
    "        (punto[0]-0.45)**2 +\n",
    "        (punto[1]-0.5)**2 +\n",
    "        (punto[2]-0.6)**2 +\n",
    "        (punto[3]-0.6)**2 +\n",
    "        (punto[4]-0.5)**2 +\n",
    "        (punto[5]-0.45)**2 \n",
    "    )\n",
    "\n",
    "    # si la distancia es mayor al radio, esta fuera\n",
    "    if (d>=0.35) : \n",
    "        return fuera\n",
    "\n",
    "    if restricciones:\n",
    "        # restriccion 1\n",
    "        if 3*punto[0] + 7*punto[3] > 5:\n",
    "            return fuera\n",
    "        # restriccion 2\n",
    "        if punto[2]+punto[3] > 1:\n",
    "            return fuera\n",
    "        # restriccion 3\n",
    "        if punto[0]-punto[1]-punto[4]+punto[5] < 0:\n",
    "            return fuera\n",
    "    else:\n",
    "        return dentro\n",
    "\n",
    "    return dentro\n",
    "# end fun punto dentro del volumen\n",
    "\n",
    "# sortearPuntoRN(6)"
   ]
  },
  {
   "cell_type": "code",
   "execution_count": 3,
   "id": "52e3e2b5",
   "metadata": {},
   "outputs": [],
   "source": [
    "# Implemento pseudocodigo Montecarlo\n",
    "\n",
    "def MetodoMonteCarlo(N, FVolumen):\n",
    "    \"\"\"\n",
    "    Implementa el pseudocodigo de MC\n",
    "    N: cantidad de muestras\n",
    "    FVolumen: funcion que define el volumen, devuelve 0 si el punto esta fuera, 1 si esta dentro\n",
    "    \"\"\"\n",
    "    t0 = time.perf_counter()\n",
    "    S = 0\n",
    "    for j in range(0, N):\n",
    "        punto = sortearPuntoRN(6)\n",
    "        if FVolumen(punto):\n",
    "            phi = 1\n",
    "        else: \n",
    "            phi = 0\n",
    "        S = S + phi\n",
    "    # end for\n",
    "    VolR = S / N\n",
    "    VarVorR = (S/N)*(1-S/N)/(N-1)\n",
    "    return (VolR, VarVorR, time.perf_counter()-t0)\n",
    "# end def\n",
    "\n",
    "VolH = math.pi**3*(0.35**6)/6\n",
    "\n",
    "(VolR, VarVolR, execTime) = MetodoMonteCarlo(10**6, lambda x: puntoDentroVolumen(x, False))\n",
    "\n"
   ]
  },
  {
   "cell_type": "markdown",
   "id": "cdf75d54",
   "metadata": {},
   "source": [
    "### Verificacion\n",
    "\n",
    "Comparamos el volumen sin restricciones con el volumen calculado analiticamente de la hiperesfera en R6"
   ]
  },
  {
   "cell_type": "code",
   "execution_count": 4,
   "id": "9357574e",
   "metadata": {},
   "outputs": [
    {
     "name": "stdout",
     "output_type": "stream",
     "text": [
      "Volumen hiper esfera por MMC = 9.460000e-03, Varianza = 9.370518e-09\n",
      " \n",
      "Volumen hiper esfera analitico = 9.499629e-03, diferencia MMC - analitico = 0.419%\n"
     ]
    }
   ],
   "source": [
    "print(\"Volumen hiper esfera por MMC = {:e}, Varianza = {:e}\".format(VolR, VarVolR))\n",
    "print(\" \")\n",
    "print(\"Volumen hiper esfera analitico = {:e}, diferencia MMC - analitico = {:.3f}%\".format(VolH, (VolH-VolR)/VolR*100))"
   ]
  },
  {
   "cell_type": "markdown",
   "id": "36769112",
   "metadata": {},
   "source": [
    "Con un millon de muestras tenemos una diferencia de menos de 1% entre el volumen calculado de forma analitica y el volumen calculado por Montecarlo."
   ]
  },
  {
   "cell_type": "markdown",
   "id": "d98e8829-b9e1-44cf-846f-acb75e823c1b",
   "metadata": {},
   "source": [
    "### Ejecucion para diferentes tamanos de muestra"
   ]
  },
  {
   "cell_type": "markdown",
   "id": "c2fa807e",
   "metadata": {},
   "source": [
    "En esta seccion corremos MMC para calcular el volumen con restricciones para diferentes tamanos de muestra."
   ]
  },
  {
   "cell_type": "code",
   "execution_count": 5,
   "id": "c3b235b1-13ed-4378-a949-188df4781222",
   "metadata": {},
   "outputs": [
    {
     "data": {
      "text/html": [
       "<table>\n",
       "<tbody>\n",
       "<tr><td>N      </td><td>Vol hiperesfera+restricciones</td><td>Varianza              </td><td>Tiempo               </td></tr>\n",
       "<tr><td>100    </td><td>0.0                          </td><td>0.0                   </td><td>0.0005875999922864139</td></tr>\n",
       "<tr><td>10000  </td><td>0.0002                       </td><td>1.9997999799979997e-08</td><td>0.11677769999369048  </td></tr>\n",
       "<tr><td>1000000</td><td>0.000286                     </td><td>2.8591848991848996e-10</td><td>6.2791452999954345   </td></tr>\n",
       "</tbody>\n",
       "</table>"
      ],
      "text/plain": [
       "'<table>\\n<tbody>\\n<tr><td>N      </td><td>Vol hiperesfera+restricciones</td><td>Varianza              </td><td>Tiempo               </td></tr>\\n<tr><td>100    </td><td>0.0                          </td><td>0.0                   </td><td>0.0005875999922864139</td></tr>\\n<tr><td>10000  </td><td>0.0002                       </td><td>1.9997999799979997e-08</td><td>0.11677769999369048  </td></tr>\\n<tr><td>1000000</td><td>0.000286                     </td><td>2.8591848991848996e-10</td><td>6.2791452999954345   </td></tr>\\n</tbody>\\n</table>'"
      ]
     },
     "execution_count": 5,
     "metadata": {},
     "output_type": "execute_result"
    }
   ],
   "source": [
    "table = [ ['N', 'Vol hiperesfera+restricciones', 'Varianza', 'Tiempo'] ]\n",
    "\n",
    "for n in [2, 4, 6]:\n",
    "    (VolR, VarVolR, execTime) = MetodoMonteCarlo(10**n, lambda x: puntoDentroVolumen(x, True))\n",
    "    table.append( [10**n, VolR, VarVolR, execTime] )\n",
    "\n",
    "\n",
    "tabulate.tabulate(table, tablefmt='html')"
   ]
  },
  {
   "cell_type": "markdown",
   "id": "177d88df",
   "metadata": {},
   "source": [
    "Entre las corridas de 10mil y 1millon de muestras hay una diferencia de un 7.6% aproximadamente. Los resultados parecen coherentes en el sentido de que al aumentar el tamano de la muestra el resultado parece tender a un valor y no parece diverger. La varianza estimada tambien decrece al aumentar el tamano de la muestra, otro resultado esperable."
   ]
  },
  {
   "cell_type": "markdown",
   "id": "40bd6508",
   "metadata": {},
   "source": [
    "## Estimacion de tamano de muestra y error\n",
    "\n"
   ]
  },
  {
   "cell_type": "code",
   "execution_count": 6,
   "id": "a76681c4",
   "metadata": {},
   "outputs": [
    {
     "data": {
      "text/plain": [
       "(0.0095408, 1.8899550050630013e-09, 36.514689200004796)"
      ]
     },
     "execution_count": 6,
     "metadata": {},
     "output_type": "execute_result"
    }
   ],
   "source": [
    "MetodoMonteCarlo(5*10**6, lambda x: puntoDentroVolumen(x, False))"
   ]
  }
 ],
 "metadata": {
  "kernelspec": {
   "display_name": "Python 3 (ipykernel)",
   "language": "python",
   "name": "python3"
  },
  "language_info": {
   "codemirror_mode": {
    "name": "ipython",
    "version": 3
   },
   "file_extension": ".py",
   "mimetype": "text/x-python",
   "name": "python",
   "nbconvert_exporter": "python",
   "pygments_lexer": "ipython3",
   "version": "3.8.10"
  }
 },
 "nbformat": 4,
 "nbformat_minor": 5
}
