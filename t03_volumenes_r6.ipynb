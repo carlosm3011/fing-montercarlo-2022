{
 "cells": [
  {
   "cell_type": "markdown",
   "id": "9a55e065-efca-4447-9706-66aab56a459a",
   "metadata": {},
   "source": [
    "# Monte Carlo - Unidad 2, Sesion 3 - Ejercicio\n",
    "\n",
    "Problema: se desea estimar el volumen de una region R de [0,1]^6 definida por todos los puntos de la hiper-esfera de centro (0.45, 0.5, 0.6, 0.6, 0.5, 0.45) y radio 0.35 que ademas cumplen con las restricciones 3x1 + 7x4 <= 5; x3+x4 <= 1; x1-x2-x5+x6 >= 0"
   ]
  },
  {
   "cell_type": "markdown",
   "id": "a7d21f8a",
   "metadata": {},
   "source": [
    "## Entrega 2 - Ejercicio 3.1\n",
    "\n",
    "### Parte a: \n",
    "\n",
    "Implementar un programa que reciba como par´ametro la\n",
    "cantidad de replicaciones n a realizar, y emplee Monte Carlo para\n",
    "calcular (e imprimir) la estimaci´on del volumen de R, y la desviaci´on\n",
    "est´andar de este estimador. Incluir c´odigo para calcular el tiempo de\n",
    "c´alculo empleado por el programa. Utilizar el programa con n = 104 y\n",
    "luego con n = 106 para estimar el volumen de R. Discutir si los dos\n",
    "valores obtenidos parecen consistentes.\n",
    "(en la sesi´on 5 se continuar´a este ejercicio)."
   ]
  },
  {
   "cell_type": "code",
   "execution_count": 24,
   "id": "5a2d73bf-efac-4e53-aca6-d0bb52c42f4a",
   "metadata": {},
   "outputs": [
    {
     "data": {
      "text/plain": [
       "[0.9379653775496534,\n",
       " 0.7134601945765607,\n",
       " 0.6459610578638343,\n",
       " 0.35703499057202814,\n",
       " 0.46660296411519275,\n",
       " 0.31095073571064336]"
      ]
     },
     "execution_count": 24,
     "metadata": {},
     "output_type": "execute_result"
    }
   ],
   "source": [
    "import random\n",
    "import math\n",
    "random.seed()\n",
    "\n",
    "def sortearPuntoRN(dim=2):\n",
    "    \"\"\"\n",
    "    Seortea un punto en R^N dentro del hiper-cubo [0,1]^N\n",
    "    \"\"\"\n",
    "    punto = []\n",
    "    for n in range(0, dim):\n",
    "        punto.append(random.uniform(0.0, 1.0))\n",
    "    # end for\n",
    "\n",
    "    return punto\n",
    "# end fun sortearPuntoRN\n",
    "\n",
    "def puntoDentroVolumen(punto, restricciones=True):\n",
    "    \"\"\"\n",
    "    Devuelve 0 o 1 si un punto esta fuera o dentro de un cierto volumen\n",
    "    \"\"\"\n",
    "\n",
    "    # Para que este dentro del volumen tiene que estar dentro de la esfera \n",
    "    # y ademas cumplir con las restricciones adicionales\n",
    "\n",
    "    dentro = 1\n",
    "    fuera = 0\n",
    "\n",
    "    # chequeo 1 : dentro de esfera\n",
    "\n",
    "    d = math.sqrt(\n",
    "        (punto[0]-0.45)**2 +\n",
    "        (punto[1]-0.5)**2 +\n",
    "        (punto[2]-0.6)**2 +\n",
    "        (punto[3]-0.6)**2 +\n",
    "        (punto[4]-0.5)**2 +\n",
    "        (punto[5]-0.45)**2 \n",
    "    )\n",
    "\n",
    "    # si la distancia es mayor al radio, esta fuera\n",
    "    if (d>=0.35) : \n",
    "        return fuera\n",
    "\n",
    "    if restricciones:\n",
    "        # restriccion 1\n",
    "        if 3*punto[0] + 7*punto[3] > 5:\n",
    "            return fuera\n",
    "        # restriccion 2\n",
    "        if punto[2]+punto[3] > 1:\n",
    "            return fuera\n",
    "        # restriccion 3\n",
    "        if punto[0]-punto[1]-punto[4]+punto[5] < 0:\n",
    "            return fuera\n",
    "    else:\n",
    "        return dentro\n",
    "\n",
    "    return dentro\n",
    "# end fun punto dentro del volumen\n",
    "\n",
    "sortearPuntoRN(6)"
   ]
  },
  {
   "cell_type": "code",
   "execution_count": 27,
   "id": "52e3e2b5",
   "metadata": {},
   "outputs": [
    {
     "name": "stdout",
     "output_type": "stream",
     "text": [
      "Volumen = 0.00911, Varianza = 9.02709817098171e-08\n",
      " \n",
      "Volumen hiper esfera = 0.009499628763439042, diferencia = 0.0003896287634390424\n"
     ]
    }
   ],
   "source": [
    "N = 10**5\n",
    "\n",
    "# Implemento pseudocodigo Montecarlo\n",
    "\n",
    "def MetodoMonteCarlo():\n",
    "    S = 0\n",
    "    for j in range(0, N):\n",
    "        punto = sortearPuntoRN(6)\n",
    "        if puntoDentroVolumen(punto, False):\n",
    "            phi = 1\n",
    "        else: \n",
    "            phi = 0\n",
    "        S = S + phi\n",
    "    # end for\n",
    "    VolR = S / N\n",
    "    VarVorR = (S/N)*(1-S/N)/(N-1)\n",
    "    return (VolR, VarVorR)\n",
    "# end def\n",
    "\n",
    "VolH = math.pi**3*(0.35**6)/6\n",
    "\n",
    "(VolR, ValVorR) = MetodoMonteCarlo()\n",
    "\n",
    "print(\"Volumen = {}, Varianza = {}\".format(VolR, ValVorR))\n",
    "print(\" \")\n",
    "print(\"Volumen hiper esfera = {}, diferencia = {}\".format(VolH, VolH-VolR))"
   ]
  },
  {
   "cell_type": "markdown",
   "id": "d98e8829-b9e1-44cf-846f-acb75e823c1b",
   "metadata": {},
   "source": [
    "## TBW"
   ]
  },
  {
   "cell_type": "code",
   "execution_count": null,
   "id": "c3b235b1-13ed-4378-a949-188df4781222",
   "metadata": {},
   "outputs": [],
   "source": []
  }
 ],
 "metadata": {
  "kernelspec": {
   "display_name": "Python 3 (ipykernel)",
   "language": "python",
   "name": "python3"
  },
  "language_info": {
   "codemirror_mode": {
    "name": "ipython",
    "version": 3
   },
   "file_extension": ".py",
   "mimetype": "text/x-python",
   "name": "python",
   "nbconvert_exporter": "python",
   "pygments_lexer": "ipython3",
   "version": "3.8.10"
  }
 },
 "nbformat": 4,
 "nbformat_minor": 5
}
