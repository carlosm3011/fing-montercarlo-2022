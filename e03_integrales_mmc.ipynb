{
 "cells": [
  {
   "cell_type": "markdown",
   "id": "907cee1f",
   "metadata": {},
   "source": [
    "# Métodos Montecarlo Fing 2022 - Entrega 3 \n",
    "\n",
    "**Autor**: Carlos M. Martinez, marzo-abril 2022. \n",
    "\n",
    "**Email**: carlosm@fing.edu.uy, carlos@cagnazzo.uy\n",
    "\n",
    "## Ejercicio 6.1\n",
    "\n",
    "se idealiza una montaña como un cono inscrito en una region cuadrada de lado 1 km. La base de la montaña es circular, con centro en (0.5, 0.5) y radio r = 0.4km, y la altura es H = 8km. La altura de cada punto (x, y) de la montaña está dada por la función:\n",
    "\n",
    "f (x, y) = H − H/r × sqrt((x − 0.5)2 + (y − 0.5)2), en la zona definida por el círculo, y 0 fuera del círculo.\n",
    "\n",
    "El volumen total de la montaña (en km cúbicos) puede verse como la integral de la función altura en la región.\n",
    "\n",
    "**Parte a:**\n",
    "\n",
    "Escribir un programa para calcular el volúmen por Monte Carlo. Realizar 10^6 replicaciones y estimar el valor de ζ y el error cometido (con nivel de confianza 0.95), utilizando como criterio la aproximación normal."
   ]
  },
  {
   "cell_type": "code",
   "execution_count": 4,
   "id": "4b7fdb15",
   "metadata": {},
   "outputs": [
    {
     "data": {
      "text/plain": [
       "'Integracion MMC v0.1.2 - Carlos Martinez abril 2022'"
      ]
     },
     "execution_count": 4,
     "metadata": {},
     "output_type": "execute_result"
    }
   ],
   "source": [
    "import random\n",
    "import math\n",
    "import tabulate\n",
    "import time\n",
    "from IPython.core.display import HTML\n",
    "random.seed()\n",
    "\n",
    "import cm2c.fing.mmc.integral as mmci\n",
    "import cm2c.fing.mmc.utils as mmcutils\n",
    "reloj_ppal = mmcutils.timeit()\n",
    "mmci.version()"
   ]
  },
  {
   "cell_type": "code",
   "execution_count": 5,
   "id": "71ba3fb8",
   "metadata": {},
   "outputs": [
    {
     "name": "stdout",
     "output_type": "stream",
     "text": [
      "El resultado debe aproximarse a 1/3:  0.3332985227530386\n"
     ]
    }
   ],
   "source": [
    "# Validacion: integro f(x) = x**2 en (0,1)\n",
    "\n",
    "import math\n",
    "\n",
    "r = mmci.integracionMonteCarlo(lambda x: x[0]**2, 1, 10**5, lambda x: random.uniform(0,1))\n",
    "\n",
    "print(\"El resultado debe aproximarse a 1/3: \", r[0])"
   ]
  },
  {
   "cell_type": "markdown",
   "id": "bffd4b4d",
   "metadata": {},
   "source": [
    "Ahora, para resolver el problema del volumen de la montaña defino una función en R2 que me devuelva la altura de la montaña abstracta:"
   ]
  },
  {
   "cell_type": "code",
   "execution_count": 7,
   "id": "eb6be1d0",
   "metadata": {},
   "outputs": [
    {
     "name": "stdout",
     "output_type": "stream",
     "text": [
      " \n",
      "Volumen estimado por MMC 1.33848 km3\n",
      "Varianza estimada : 3.55871e-06\n",
      "Intervalo de confianza para delta 0.05 : (1.33478, 1.34218) \n",
      "Error estimado: 3.69738e-03\n"
     ]
    }
   ],
   "source": [
    "H = 8.0 # altura en km\n",
    "r = 0.4 # radio de la base en km\n",
    "n = 10**6 # cantidad de muestras para la parte (a)\n",
    "delta = 0.05\n",
    "\n",
    "import math\n",
    "\n",
    "def Montana(x):\n",
    "    \"\"\"\n",
    "    x es un vector de dos elementos\n",
    "    devuelve la altura estimada\n",
    "    \"\"\"\n",
    "    \n",
    "    # calculo distancia al centro\n",
    "    d = math.sqrt( (x[0]-0.5)**2 + (x[1]-0.5)**2 )\n",
    "    \n",
    "    if d > 0.4:\n",
    "        return 0.0\n",
    "    else:\n",
    "        return H - (H/r)*d\n",
    "## end def Montana\n",
    "\n",
    "(estimZ, estimV, _, _) = mmci.integracionMonteCarlo(Montana, 2, n, mmcutils.sortearPuntoRN)\n",
    "\n",
    "(icn0, icn1) = mmci.intConfianzaAproxNormal(estimZ, estimV, n, delta)\n",
    "\n",
    "epsilon_est = estimZ-icn0\n",
    "\n",
    "print(\" \")\n",
    "print(\"Volumen estimado por MMC {:.5f} km3\".format(estimZ))\n",
    "print(\"Varianza estimada : {:.5e}\".format(estimV))\n",
    "print(\"Intervalo de confianza para delta {} : ({:.5f}, {:.5f}) \".format(delta, icn0, icn1))\n",
    "print(\"Error estimado: {:.5e}\".format(epsilon_est))"
   ]
  },
  {
   "cell_type": "markdown",
   "id": "ec5d2c86",
   "metadata": {},
   "source": [
    "**Parte b:**\n",
    "\n",
    "En base al valor estimado en la parte a, calcular el número de\n",
    "replicaciones necesario para obtener un error absoluto menor a 10^-3\n",
    "(con nivel de confianza 0.95).\n",
    "\n",
    "- Paso 1: Realizar un número n' de pruebas preliminares y estimar la varianza.\n",
    "  \n",
    "  En este caso ya tenemos una estimación para n' = 10^6"
   ]
  },
  {
   "cell_type": "code",
   "execution_count": null,
   "id": "2773d21e",
   "metadata": {},
   "outputs": [
    {
     "name": "stdout",
     "output_type": "stream",
     "text": [
      "Volumen estimado por MMC 1.34109 km3\n",
      "Varianza estimada : 3.56573e-06\n"
     ]
    }
   ],
   "source": [
    "print(\"Volumen estimado por MMC {:.5f} km3\".format(estimZ))\n",
    "print(\"Varianza estimada : {:.5e}\".format(estimV))"
   ]
  },
  {
   "cell_type": "markdown",
   "id": "9486aca6",
   "metadata": {},
   "source": [
    "- Paso 2\n",
    "\n",
    "  Calcular el tamaño de la muestra requerido según la aproximación normal, el cual se define por:\n",
    "  \n",
    "  ```npuntoN(epsilon, delta) = norm.ppf(1-delta/2)**2 * estimV / (epsilon**2)```"
   ]
  },
  {
   "cell_type": "code",
   "execution_count": null,
   "id": "0cb50e54",
   "metadata": {},
   "outputs": [
    {
     "name": "stdout",
     "output_type": "stream",
     "text": [
      "3.56573492794628e-06 , 1000000\n",
      "13,697,624\n"
     ]
    }
   ],
   "source": [
    "from scipy.stats import norm\n",
    "\n",
    "def npuntoN(delta_, epsilon_, estimV_, n_):\n",
    "    return (norm.ppf(1-delta_/2)**2)*estimV_*n_/(epsilon_**2)\n",
    "\n",
    "npuntoN_est = math.ceil ( npuntoN(0.05, 0.001, estimV, n) )\n",
    "\n",
    "print(f'{estimV} , {n}')\n",
    "print(f'{npuntoN_est:,}')"
   ]
  },
  {
   "cell_type": "markdown",
   "id": "b475c7b1",
   "metadata": {},
   "source": [
    "- Paso 3\n",
    "\n",
    "  Repetir las simulaciones con N > npuntoN_estimado, asegurando que las semillas son diferentes (para garantizar la independencia de los experimentos)"
   ]
  },
  {
   "cell_type": "code",
   "execution_count": null,
   "id": "3d5219c6",
   "metadata": {},
   "outputs": [],
   "source": [
    "# tryN = [ 14*10**6, 16*10**6, 20*10**6, 30*10**6]\n",
    "tryN = [ 14*10**4, 16*10**4, 20*10**4, 30*10**4]\n",
    "\n",
    "table1 = [ ['N', 'Volumen est. MMC', 'Varianza est.', 'Int. Confianza', 'Error est.', 'Tiempo ejecución'] ]\n",
    "\n",
    "reloj = mmcutils.timeit()\n",
    "\n",
    "for n in tryN:\n",
    "    (estimZ, estimV, _, _) = mmci.integracionMonteCarloParalelo(Montana, 2, n, 8)\n",
    "    (icn0, icn1) = mmci.intConfianzaAproxNormal(estimZ, estimV, n, delta)\n",
    "    epsilon_est = estimZ-icn0\n",
    "    table1.append([f'{n:,}', f'{estimZ:.5f}', f'{estimV:.5e}', f'({icn0:.5f}, {icn1:.5f})', f'{epsilon_est:.5e}', f'{reloj.lap():.3f}'])\n"
   ]
  },
  {
   "cell_type": "code",
   "execution_count": null,
   "id": "5a461c42",
   "metadata": {},
   "outputs": [
    {
     "data": {
      "text/html": [
       "<table>\n",
       "<tbody>\n",
       "<tr><td>N      </td><td>Volumen est. MMC</td><td>Varianza est.</td><td>Int. Confianza    </td><td>Error est. </td><td>Tiempo ejecución</td></tr>\n",
       "<tr><td>140,000</td><td>1.33430         </td><td>2.54087e-05  </td><td>(1.32442, 1.34418)</td><td>9.87960e-03</td><td>0.184           </td></tr>\n",
       "<tr><td>160,000</td><td>1.34069         </td><td>2.23490e-05  </td><td>(1.33143, 1.34996)</td><td>9.26568e-03</td><td>0.057           </td></tr>\n",
       "<tr><td>200,000</td><td>1.34869         </td><td>1.79430e-05  </td><td>(1.34039, 1.35700)</td><td>8.30224e-03</td><td>0.072           </td></tr>\n",
       "<tr><td>300,000</td><td>1.34627         </td><td>1.19661e-05  </td><td>(1.33949, 1.35305)</td><td>6.77990e-03</td><td>0.089           </td></tr>\n",
       "</tbody>\n",
       "</table>"
      ],
      "text/plain": [
       "'<table>\\n<tbody>\\n<tr><td>N      </td><td>Volumen est. MMC</td><td>Varianza est.</td><td>Int. Confianza    </td><td>Error est. </td><td>Tiempo ejecución</td></tr>\\n<tr><td>140,000</td><td>1.33430         </td><td>2.54087e-05  </td><td>(1.32442, 1.34418)</td><td>9.87960e-03</td><td>0.184           </td></tr>\\n<tr><td>160,000</td><td>1.34069         </td><td>2.23490e-05  </td><td>(1.33143, 1.34996)</td><td>9.26568e-03</td><td>0.057           </td></tr>\\n<tr><td>200,000</td><td>1.34869         </td><td>1.79430e-05  </td><td>(1.34039, 1.35700)</td><td>8.30224e-03</td><td>0.072           </td></tr>\\n<tr><td>300,000</td><td>1.34627         </td><td>1.19661e-05  </td><td>(1.33949, 1.35305)</td><td>6.77990e-03</td><td>0.089           </td></tr>\\n</tbody>\\n</table>'"
      ]
     },
     "execution_count": 7,
     "metadata": {},
     "output_type": "execute_result"
    }
   ],
   "source": [
    "tabulate.tabulate(table1, tablefmt='html')"
   ]
  },
  {
   "cell_type": "markdown",
   "id": "ebe542e3",
   "metadata": {},
   "source": [
    "**Conclusión** La formula de estimación de cantidad de muestras nos da una referencia, en este caso unos 13.6x10^6 muestras. Probando con cantidades de muestras levemente mayores ya logramos bajar el error de 10^-3 que era lo pedido. "
   ]
  },
  {
   "cell_type": "markdown",
   "id": "f1b6bec3",
   "metadata": {},
   "source": [
    "## Ejercicio 6.2\n",
    "\n",
    "#### Problema: \n",
    "Se desea estimar la integral de la función ```F5(X) = x1*x2^2*x3^3*x4^4*x5^5``` sobre el\n",
    "hipercubo J^m de dimensión m = 5.\n",
    "\n",
    "**Parte a:**\n",
    "\n",
    "Revisar los códigos preparados para el ejercicio 6.1, elegir uno\n",
    "de ellos como punto de partida.\n",
    "\n",
    "Sobre esa base, modificarlo para realizar cálculo por Monte Carlo de la integral planteada en el ejercicio\n",
    "6.2. Realizar 10^6 replicaciones y estimar el valor de ζ. Calcular analíticamente el valor exacto de la integral."
   ]
  },
  {
   "cell_type": "code",
   "execution_count": null,
   "id": "8b6b260f",
   "metadata": {},
   "outputs": [
    {
     "data": {
      "text/html": [
       "<h4>estimZ: 0.0014024 - estimV: 9.67742e-11</h4>"
      ],
      "text/plain": [
       "<IPython.core.display.HTML object>"
      ]
     },
     "execution_count": 8,
     "metadata": {},
     "output_type": "execute_result"
    }
   ],
   "source": [
    "# Definimos la función\n",
    "\n",
    "def F5(x):\n",
    "    \"\"\"\n",
    "    x es un vector en R^5\n",
    "    \"\"\"\n",
    "    return x[0] * (x[1]**2) *  (x[2]**3) * (x[3]**4) * (x[4]**5)\n",
    "# end def\n",
    "\n",
    "# Calculo la integral con 10^6 replicas\n",
    "n = 10**6\n",
    "\n",
    "(estimZ, estimV, _, _) = mmci.integracionMonteCarlo(F5, 5, n)\n",
    "\n",
    "HTML(f'<h4>estimZ: {estimZ:.7f} - estimV: {estimV:.5e}</h4>')\n"
   ]
  },
  {
   "cell_type": "markdown",
   "id": "bdb6dab0",
   "metadata": {},
   "source": [
    "Cálculo analítico de la integral de la función F5 en J^5:\n",
    "\n",
    "![Calculo analítico de la integral de F5](integral_analitica.gif \"Cálculo analítico del valor de la integral en J^5 de F5\")"
   ]
  },
  {
   "cell_type": "markdown",
   "id": "e77c79dd",
   "metadata": {},
   "source": [
    "**Parte b:**\n",
    "\n",
    "En base al valor estimado en la parte a, calcular el número de\n",
    "replicaciones necesario para obtener un error menor a 10−4 (con nivel\n",
    "de confianza 0.95)."
   ]
  },
  {
   "cell_type": "code",
   "execution_count": null,
   "id": "28860148",
   "metadata": {},
   "outputs": [
    {
     "name": "stdout",
     "output_type": "stream",
     "text": [
      "Estimación de cantidad de muestras: 37,176\n"
     ]
    }
   ],
   "source": [
    "npuntoN_est = math.ceil ( npuntoN(0.05, 0.0001, estimV, n) )\n",
    "\n",
    "print(f'Estimación de cantidad de muestras: {npuntoN_est:,}')"
   ]
  },
  {
   "cell_type": "markdown",
   "id": "281d2e3a",
   "metadata": {},
   "source": [
    "**Parte c:**\n",
    "\n",
    "Decimos que un intervalo de confianza cubre el valor exacto\n",
    "cuando este último pertenece al intervalo.\n",
    "\n",
    "Realizar L = 500 experimentos con semillas diferentes, cada uno\n",
    "consistente en estimar por Monte Carlo con el nro. de replicaciones de\n",
    "la parte b el valor de la integral, así como intervalos de confianza de\n",
    "nivel 0.9, 0.95 y 0.99.\n",
    "\n",
    "Para cada nivel de confianza, calcular el nivel de\n",
    "cobertura empírico (en que porcentaje de los 500 experimentos el\n",
    "intervalo de confianza calculado cubrió el valor exacto).\n",
    "\n",
    "Discutir los resultados, comparando la cobertura empírica con la\n",
    "especificada."
   ]
  },
  {
   "cell_type": "code",
   "execution_count": null,
   "id": "0895f354",
   "metadata": {},
   "outputs": [
    {
     "name": "stdout",
     "output_type": "stream",
     "text": [
      "7.439999899361283e-05\n"
     ]
    }
   ],
   "source": [
    "table2 = [ ['L', 'n', '1-delta', '% Experimentos exitosos', 'Tiempo ejecución'] ]\n",
    "L = 500\n",
    "delta = 0.10\n",
    "ZAnalitico = 1.0/720.0\n",
    "npuntoN_est = math.ceil ( npuntoN(delta, 0.0001, estimV, n) )\n",
    "reloj = mmcutils.timeit()\n",
    "\n",
    "def Lexperimentos():\n",
    "    cobertura = []\n",
    "    for j in range(0,L):\n",
    "        random.seed()\n",
    "        (estimZ_, estimV_, _, _) = mmci.integracionMonteCarloParalelo(F5, 5, npuntoN_est, 8)\n",
    "        (icn0, icn1) = mmci.intConfianzaAproxNormal(estimZ_, estimV_, npuntoN_est, delta)\n",
    "        epsilon = ZAnalitico-icn0\n",
    "        if ZAnalitico>=icn0 and ZAnalitico<=icn1:\n",
    "            cobertura.append(1)\n",
    "        else:\n",
    "            cobertura.append(0)\n",
    "    # end for\n",
    "    # La cantidad de unos en el array cobertura es la cantidad de experimentos donde el valor analitico esta contenido\n",
    "    # en el intervalo de confianza\n",
    "    exitos = cobertura.count(1)\n",
    "\n",
    "    table2.append( [L, f'{npuntoN_est:,}', f'{1-delta:.2f}', f'{exitos/L*100:.2f}%', f'{reloj.lap():.3f}' ] )\n",
    "# end def\n",
    "\n",
    "Lexperimentos()\n",
    "print(reloj.lap())\n"
   ]
  },
  {
   "cell_type": "code",
   "execution_count": null,
   "id": "927632a3",
   "metadata": {},
   "outputs": [],
   "source": [
    "delta = 0.05\n",
    "npuntoN_est = math.ceil ( npuntoN(delta, 0.0001, estimV, n) )\n",
    "Lexperimentos()"
   ]
  },
  {
   "cell_type": "code",
   "execution_count": null,
   "id": "c3002f7a",
   "metadata": {},
   "outputs": [],
   "source": [
    "delta = 0.01\n",
    "npuntoN_est = math.ceil ( npuntoN(delta, 0.0001, estimV, n) )\n",
    "Lexperimentos()"
   ]
  },
  {
   "cell_type": "code",
   "execution_count": null,
   "id": "ce72011e",
   "metadata": {},
   "outputs": [
    {
     "data": {
      "text/html": [
       "<table>\n",
       "<tbody>\n",
       "<tr><td>L  </td><td>n     </td><td>1-delta</td><td>% Experimentos exitosos</td><td>Tiempo ejecución</td></tr>\n",
       "<tr><td>500</td><td>26,183</td><td>0.90   </td><td>90.00%                 </td><td>7.983           </td></tr>\n",
       "<tr><td>500</td><td>37,176</td><td>0.95   </td><td>93.80%                 </td><td>10.405          </td></tr>\n",
       "<tr><td>500</td><td>64,209</td><td>0.99   </td><td>99.00%                 </td><td>16.359          </td></tr>\n",
       "</tbody>\n",
       "</table>"
      ],
      "text/plain": [
       "'<table>\\n<tbody>\\n<tr><td>L  </td><td>n     </td><td>1-delta</td><td>% Experimentos exitosos</td><td>Tiempo ejecución</td></tr>\\n<tr><td>500</td><td>26,183</td><td>0.90   </td><td>90.00%                 </td><td>7.983           </td></tr>\\n<tr><td>500</td><td>37,176</td><td>0.95   </td><td>93.80%                 </td><td>10.405          </td></tr>\\n<tr><td>500</td><td>64,209</td><td>0.99   </td><td>99.00%                 </td><td>16.359          </td></tr>\\n</tbody>\\n</table>'"
      ]
     },
     "execution_count": 13,
     "metadata": {},
     "output_type": "execute_result"
    }
   ],
   "source": [
    "tabulate.tabulate(table2, tablefmt='html')"
   ]
  },
  {
   "cell_type": "markdown",
   "id": "4c3707a3",
   "metadata": {},
   "source": [
    "**Discusión de los resultados de cobertura**\n",
    "\n",
    "Me resulta interesante ver de que la cantidad de muestras que obtenemos de la formula basada en la normal partiendo de la estimación de la varianza obtenida para 10^6 muestras es significativamente más pequeña que 10^6 (del orden de 3.6 * 10^4).\n",
    "\n",
    "Cuando realizamos los L=500 experimentos partiendo de estas cantidades de muestras calculadas de esta forma (bastante más pequeñas) obtenemos porcentajes de cobertura que parecen bastante buenos.\n",
    "\n",
    "Al disminuir el tamaño del intervalo de confianza, naturalmente la cantidad de muestras crece. Es interesante ver también que el porcentaje de experimentos exitosos también crece.\n"
   ]
  },
  {
   "cell_type": "markdown",
   "id": "ac61ca9d",
   "metadata": {},
   "source": [
    "## Datos adicionales y referencias\n",
    "\n",
    "### Información acerca del software y hardware utilizados\n",
    "\n",
    "**Software:**\n",
    " - Python 3.8.10 corriendo en Windows WSL2 (Windows Subsystem for Linux)\n",
    " - Jupyter Notebook \n",
    " \n",
    "**Librerias:** \n",
    " - scipy norm\n",
    " - pathos multiprocessing (para parelilizar ejecuciones)\n",
    " \n",
    "**Hardware:**\n",
    "\n",
    " - PC Windows 11, con WSL2\n",
    " - CPU Intel Core i5 10400F (6 cores)\n",
    " - 16 GB de RAM"
   ]
  },
  {
   "cell_type": "code",
   "execution_count": null,
   "id": "4eabefb3",
   "metadata": {},
   "outputs": [
    {
     "name": "stdout",
     "output_type": "stream",
     "text": [
      "%% FIN - tiempo total de ejecución 38.740s\n"
     ]
    }
   ],
   "source": [
    "print(f\"%% FIN - tiempo total de ejecución {reloj_ppal.lap():.3f}s\")"
   ]
  },
  {
   "cell_type": "markdown",
   "id": "70469089",
   "metadata": {},
   "source": [
    "## Código de las funciones desarrolladas\n",
    "\n",
    "Adjunto en el archivo _\"integral.py.pdf\"_."
   ]
  }
 ],
 "metadata": {
  "kernelspec": {
   "display_name": "Python 3 (ipykernel)",
   "language": "python",
   "name": "python3"
  },
  "language_info": {
   "codemirror_mode": {
    "name": "ipython",
    "version": 3
   },
   "file_extension": ".py",
   "mimetype": "text/x-python",
   "name": "python",
   "nbconvert_exporter": "python",
   "pygments_lexer": "ipython3",
   "version": "3.9.12"
  }
 },
 "nbformat": 4,
 "nbformat_minor": 5
}
