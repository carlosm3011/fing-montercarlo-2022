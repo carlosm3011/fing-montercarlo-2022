{
 "cells": [
  {
   "cell_type": "markdown",
   "id": "9a55e065-efca-4447-9706-66aab56a459a",
   "metadata": {},
   "source": [
    "# Métodos Montecarlo Fing 2022 - Entrega 1\n",
    "\n",
    "**Autor:** Carlos M. Martinez, marzo-abril 2022.\n",
    "\n",
    "**Email:** carlosm@fing.edu.uy, carlos@cagnazzo.uy\n",
    "\n"
   ]
  },
  {
   "cell_type": "markdown",
   "id": "778fa117",
   "metadata": {},
   "source": [
    "Supongamos que para construir una casa debemos efectuar la siguiente lista de tareas:\n",
    "\n",
    "- T1 - cimientos - tiempo aleatorio uniforme entre 40 y 56 hs. \n",
    "- T2 - contrapiso - tiempo aleatorio uniforme entre 24 y 32 hs. \n",
    "- T3 - paredes - tiempo aleatorio uniforme entre 20 y 40 hs.\n",
    "- T4 - techo - tiempo aleatorio uniforme entre 16 y 48 hs.\n",
    "- T5 - instalación sanitaria - tiempo aleatorio uniforme entre 10 y 30 hs.\n",
    "- T6 - instalación el eléctrica - tiempo aleatorio uniforme entre 15 y 30 hs. \n",
    "- T7 - cerramientos - tiempo aleatorio uniforme entre 20 y 25 hs.\n",
    "- T8 - pintura - tiempo aleatorio uniforme entre 30 y 50 hs.\n",
    "- T9 - revestimientos sanitarios - tiempo aleatorio uniforme entre 40 y 60 hs.\n",
    "- T10 - limpieza final - tiempo aleatorio uniforme entre 8 y 16 hs.\n",
    "\n",
    "Hay ciertas dependencias que implican que una tarea no puede comenzar hasta haberse terminado otra previa:\n",
    "\n",
    "- T2, T3 dependen de 1.\n",
    "- T4 depende de 2 y 3\n",
    "- T5 depende de 2 y 3\n",
    "- T6 depende de 3\n",
    "- T7 depende de 3\n",
    "- T8 dependede 4,5,6 y7\n",
    "- T9 depende de 5\n",
    "- T10 depende de 7, 8 y 9"
   ]
  },
  {
   "cell_type": "markdown",
   "id": "34569381",
   "metadata": {},
   "source": [
    "## Entrega 1 \n",
    "\n",
    "**Ejercicio 2.1**\n",
    "\n",
    "Implementar un programa que reciba como par ́ametros de l ́ınea de comando (o pregunte en pantalla) la cantidad de replicaciones n a realizar, y emplee Monte Carlo para calcular (e imprimir) la estimaci ́on del tiempo total promedio desde que se comienza la obra hasta que se finaliza la misma, y la desviaci ́on est ́andar de este estimador."
   ]
  },
  {
   "cell_type": "code",
   "execution_count": 17,
   "id": "5a2d73bf-efac-4e53-aca6-d0bb52c42f4a",
   "metadata": {},
   "outputs": [],
   "source": [
    "import math\n",
    "import matplotlib as mpl\n",
    "import matplotlib.pyplot as plt\n",
    "import random\n",
    "\n",
    "# Estructura de datos para las tareas:\n",
    "\n",
    "TareasDB = ['']*10\n",
    "\n",
    "TareasDB[1] = {\n",
    "    'dur': (40,56), # intervalo de duración en horas\n",
    "    'dep': []       # tareas de la que depende para poder comenzar\n",
    "}\n",
    "\n",
    "TareasDB[2] = {\n",
    "    'dur': (24,32), # intervalo de duración en horas\n",
    "    'dep': [1]       # tareas de la que depende para poder comenzar\n",
    "}\n",
    "\n",
    "TareasDB[3] = {\n",
    "    'dur': (20,40), # intervalo de duración en horas\n",
    "    'dep': [1]       # tareas de la que depende para poder comenzar\n",
    "}\n",
    "\n",
    "TareasDB[4] = {\n",
    "    'dur': (16,48), # intervalo de duración en horas\n",
    "    'dep': [2,3]       # tareas de la que depende para poder comenzar\n",
    "}\n"
   ]
  },
  {
   "cell_type": "code",
   "execution_count": 23,
   "id": "73098b15",
   "metadata": {},
   "outputs": [
    {
     "data": {
      "text/plain": [
       "[0, 55, 24, 28, 42, 0, 0, 0, 0, 0]"
      ]
     },
     "execution_count": 23,
     "metadata": {},
     "output_type": "execute_result"
    }
   ],
   "source": [
    "# Generar muestras de las duraciones de las tareas\n",
    "TSim = [0] * 10\n",
    "\n",
    "random.seed()\n",
    "for i in range(1, 5):\n",
    "    TSim[i] = random.randint(TareasDB[i]['dur'][0], TareasDB[i]['dur'][1])\n",
    "    \n",
    "TSim"
   ]
  },
  {
   "cell_type": "code",
   "execution_count": 30,
   "id": "3fd76393",
   "metadata": {},
   "outputs": [],
   "source": [
    "# Calculo del tiempo de construcción\n",
    "\n",
    "# Alg1 , \"ir para atras\"\n",
    "# Tomo la tarea final\n",
    "# Le sumo la duración max(tareas pre condicion)\n",
    "# repito para la tarea que tenía ese max\n",
    "\n",
    "def calculoTiempoDeConstruccion(wTSim, wTDB, n):\n",
    "    Ttotal = 0\n",
    "    \n",
    "    if n == 1:\n",
    "        return wTSim[1]\n",
    "    else:\n",
    "        max_precond = 0\n",
    "        t_max_precond = 0\n",
    "        for j in wTDB[n]['dep']:\n",
    "            if wTSim[j] > max_precond:\n",
    "                max_precond = wTSim[j]\n",
    "                t_max_precond = j\n",
    "                print(max_precond, t_max_precond)\n",
    "            # end if\n",
    "        # end for\n",
    "            \n",
    "        Ttotal = wTSim[n] + max_precond + calculoTiempoDeConstruccion(wTSim, wTDB, t_max_precond) \n",
    "    \n",
    "    return Ttotal"
   ]
  },
  {
   "cell_type": "code",
   "execution_count": 31,
   "id": "bb088c5f",
   "metadata": {},
   "outputs": [
    {
     "name": "stdout",
     "output_type": "stream",
     "text": [
      "24 2\n",
      "28 3\n",
      "55 1\n"
     ]
    },
    {
     "data": {
      "text/plain": [
       "55"
      ]
     },
     "execution_count": 31,
     "metadata": {},
     "output_type": "execute_result"
    }
   ],
   "source": [
    "calculoTiempoDeConstruccion(TSim, TareasDB, 4)"
   ]
  },
  {
   "cell_type": "markdown",
   "id": "d98e8829-b9e1-44cf-846f-acb75e823c1b",
   "metadata": {},
   "source": [
    "## Conclusiones"
   ]
  },
  {
   "cell_type": "code",
   "execution_count": 15,
   "id": "c3b235b1-13ed-4378-a949-188df4781222",
   "metadata": {
    "scrolled": true
   },
   "outputs": [],
   "source": [
    "# TBW*"
   ]
  },
  {
   "cell_type": "code",
   "execution_count": null,
   "id": "82ce2344",
   "metadata": {},
   "outputs": [],
   "source": []
  },
  {
   "cell_type": "code",
   "execution_count": null,
   "id": "e4f62ea1",
   "metadata": {},
   "outputs": [],
   "source": []
  }
 ],
 "metadata": {
  "kernelspec": {
   "display_name": "Python 3 (ipykernel)",
   "language": "python",
   "name": "python3"
  },
  "language_info": {
   "codemirror_mode": {
    "name": "ipython",
    "version": 3
   },
   "file_extension": ".py",
   "mimetype": "text/x-python",
   "name": "python",
   "nbconvert_exporter": "python",
   "pygments_lexer": "ipython3",
   "version": "3.8.2"
  }
 },
 "nbformat": 4,
 "nbformat_minor": 5
}
