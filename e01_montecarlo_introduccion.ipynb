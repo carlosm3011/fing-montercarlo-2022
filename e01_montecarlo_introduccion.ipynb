{
 "cells": [
  {
   "cell_type": "markdown",
   "id": "9a55e065-efca-4447-9706-66aab56a459a",
   "metadata": {},
   "source": [
    "# Métodos Montecarlo Fing 2022 - Entrega 1\n",
    "\n",
    "**Autor:** Carlos M. Martinez, marzo-abril 2022.\n",
    "\n",
    "**Email:** carlosm@fing.edu.uy, carlos@cagnazzo.uy\n",
    "\n"
   ]
  },
  {
   "cell_type": "markdown",
   "id": "778fa117",
   "metadata": {},
   "source": [
    "Supongamos que para construir una casa debemos efectuar la siguiente lista de tareas:\n",
    "\n",
    "- T1 - cimientos - tiempo aleatorio uniforme entre 40 y 56 hs. \n",
    "- T2 - contrapiso - tiempo aleatorio uniforme entre 24 y 32 hs. \n",
    "- T3 - paredes - tiempo aleatorio uniforme entre 20 y 40 hs.\n",
    "- T4 - techo - tiempo aleatorio uniforme entre 16 y 48 hs.\n",
    "- T5 - instalación sanitaria - tiempo aleatorio uniforme entre 10 y 30 hs.\n",
    "- T6 - instalación el eléctrica - tiempo aleatorio uniforme entre 15 y 30 hs. \n",
    "- T7 - cerramientos - tiempo aleatorio uniforme entre 20 y 25 hs.\n",
    "- T8 - pintura - tiempo aleatorio uniforme entre 30 y 50 hs.\n",
    "- T9 - revestimientos sanitarios - tiempo aleatorio uniforme entre 40 y 60 hs.\n",
    "- T10 - limpieza final - tiempo aleatorio uniforme entre 8 y 16 hs.\n",
    "\n",
    "Hay ciertas dependencias que implican que una tarea no puede comenzar hasta haberse terminado otra previa:\n",
    "\n",
    "- T2, T3 dependen de 1.\n",
    "- T4 depende de 2 y 3\n",
    "- T5 depende de 2 y 3\n",
    "- T6 depende de 3\n",
    "- T7 depende de 3\n",
    "- T8 dependede 4,5,6 y7\n",
    "- T9 depende de 5\n",
    "- T10 depende de 7, 8 y 9"
   ]
  },
  {
   "cell_type": "markdown",
   "id": "34569381",
   "metadata": {},
   "source": [
    "## Entrega 1 \n",
    "\n",
    "**Ejercicio 2.1**\n",
    "\n",
    "Implementar un programa que reciba como par ́ametros de l ́ınea de comando (o pregunte en pantalla) la cantidad de replicaciones n a realizar, y emplee Monte Carlo para calcular (e imprimir) la estimación del tiempo total promedio desde que se comienza la obra hasta que se finaliza la misma, y la desviación estándar de este estimador."
   ]
  },
  {
   "cell_type": "code",
   "execution_count": 29,
   "id": "5a2d73bf-efac-4e53-aca6-d0bb52c42f4a",
   "metadata": {},
   "outputs": [],
   "source": [
    "import math\n",
    "import matplotlib as mpl\n",
    "import matplotlib.pyplot as plt\n",
    "import random\n",
    "from time import perf_counter\n",
    "\n",
    "# Estructura de datos para las tareas:\n",
    "\n",
    "TareasDB = ['']*11\n",
    "\n",
    "TareasDB[1] = {\n",
    "    'dur': (40,56), # intervalo de duración en horas\n",
    "    'dep': []       # tareas de la que depende para poder comenzar\n",
    "}\n",
    "\n",
    "TareasDB[2] = {\n",
    "    'dur': (24,32), # intervalo de duración en horas\n",
    "    'dep': [1]       # tareas de la que depende para poder comenzar\n",
    "}\n",
    "\n",
    "TareasDB[3] = {\n",
    "    'dur': (20,40), # intervalo de duración en horas\n",
    "    'dep': [1]       # tareas de la que depende para poder comenzar\n",
    "}\n",
    "\n",
    "TareasDB[4] = {\n",
    "    'dur': (16,48), # intervalo de duración en horas\n",
    "    'dep': [2,3]       # tareas de la que depende para poder comenzar\n",
    "}\n",
    "\n",
    "TareasDB[5] = {\n",
    "    'dur': (10,30), # intervalo de duración en horas\n",
    "    'dep': [2,3]       # tareas de la que depende para poder comenzar\n",
    "}\n",
    "\n",
    "TareasDB[6] = {\n",
    "    'dur': (15,30), # intervalo de duración en horas\n",
    "    'dep': [3]       # tareas de la que depende para poder comenzar\n",
    "}\n",
    "\n",
    "TareasDB[7] = {\n",
    "    'dur': (20,25), # intervalo de duración en horas\n",
    "    'dep': [3]       # tareas de la que depende para poder comenzar\n",
    "}\n",
    "\n",
    "TareasDB[8] = {\n",
    "    'dur': (30,50),        # intervalo de duración en horas\n",
    "    'dep': [4,5,6,7]       # tareas de la que depende para poder comenzar\n",
    "}\n",
    "\n",
    "TareasDB[9] = {\n",
    "    'dur': (40,60),        # intervalo de duración en horas\n",
    "    'dep': [5]       # tareas de la que depende para poder comenzar\n",
    "}\n",
    "\n",
    "TareasDB[10] = {\n",
    "    'dur': (8,16),        # intervalo de duración en horas\n",
    "    'dep': [7,8,9]       # tareas de la que depende para poder comenzar\n",
    "}\n"
   ]
  },
  {
   "cell_type": "code",
   "execution_count": 30,
   "id": "73098b15",
   "metadata": {},
   "outputs": [
    {
     "data": {
      "text/plain": [
       "[0, 50, 26, 27, 48, 17, 16, 25, 41, 51, 9]"
      ]
     },
     "execution_count": 30,
     "metadata": {},
     "output_type": "execute_result"
    }
   ],
   "source": [
    "# Generar muestras de las duraciones de las tareas\n",
    "\n",
    "def sampleTSim(wTareasDB, n):\n",
    "    TSim = [0] * 11\n",
    "    random.seed()\n",
    "    for i in range(1, n):\n",
    "        TSim[i] = random.randint(wTareasDB[i]['dur'][0], wTareasDB[i]['dur'][1])\n",
    "    return TSim\n",
    "## \n",
    "    \n",
    "sampleTSim(TareasDB,11)"
   ]
  },
  {
   "cell_type": "code",
   "execution_count": 9,
   "id": "3fd76393",
   "metadata": {},
   "outputs": [],
   "source": [
    "# Calculo del tiempo de construcción\n",
    "\n",
    "# Alg1 , \"ir para atras\"\n",
    "# Tomo la tarea final\n",
    "# Le sumo la duración max(tareas pre condicion)\n",
    "# repito para la tarea que tenía ese max\n",
    "\n",
    "def backtrackTareas(wTSim, wTDB, n):\n",
    "    # print(\"corriendo con n: \",n)\n",
    "    \n",
    "    if n == 1:\n",
    "        return [1]\n",
    "    else:\n",
    "        t_max_precond = 0\n",
    "        max_precond = 0\n",
    "        for j in wTDB[n]['dep']:\n",
    "            if wTSim[j] > max_precond: \n",
    "                max_precond = wTSim[j]\n",
    "                t_max_precond = j\n",
    "            # end if\n",
    "        # end for\n",
    "        # print(j)\n",
    "        prev = backtrackTareas(wTSim, wTDB, t_max_precond)\n",
    "        prev.append(n)\n",
    "        return prev\n",
    "# end def\n",
    "\n",
    "def calculoTiempoDeConstruccion(lista_tareas, wTSim):\n",
    "    \"\"\"\n",
    "    listaTareas es un array con las tareas en el orden en que se ejecutaron\n",
    "    \"\"\"\n",
    "    dur = 0\n",
    "    for x in lista_tareas:\n",
    "        dur = dur + wTSim[x]\n",
    "    # end for\n",
    "    return dur\n",
    "# end def\n",
    "\n",
    "def sortearX():\n",
    "    ts = sampleTSim(TareasDB,11)\n",
    "    tareas = backtrackTareas(ts, TareasDB, 10)\n",
    "    return calculoTiempoDeConstruccion(tareas, ts)"
   ]
  },
  {
   "cell_type": "code",
   "execution_count": 33,
   "id": "bb088c5f",
   "metadata": {},
   "outputs": [],
   "source": [
    "muestras_promedio = []\n",
    "muestras_devstd = []\n",
    "\n",
    "def EstimacionMonteCarlo(n, FsortearX):\n",
    "    t0 = perf_counter()\n",
    "    random.seed()\n",
    "    Xest = 0\n",
    "    Vest = 0\n",
    "    for x in range(n):\n",
    "        Xi = FsortearX()\n",
    "        Xest = Xest + Xi\n",
    "        Vest = Vest + Xi**2\n",
    "    # end for\n",
    "    \n",
    "    Xest = Xest / n\n",
    "    Vest = Vest/(n*(n-1)) - Xest**2/(n-1)\n",
    "    \n",
    "    return (Xest, Vest, perf_counter()-t0)\n",
    "# end def"
   ]
  },
  {
   "cell_type": "code",
   "execution_count": 34,
   "id": "20c13d5b",
   "metadata": {},
   "outputs": [
    {
     "data": {
      "text/plain": [
       "(164.5192, 0.01334965810180977, 0.2853529260000869)"
      ]
     },
     "execution_count": 34,
     "metadata": {},
     "output_type": "execute_result"
    }
   ],
   "source": [
    "EstimacionMonteCarlo(10**4, sortearX)"
   ]
  },
  {
   "cell_type": "markdown",
   "id": "d98e8829-b9e1-44cf-846f-acb75e823c1b",
   "metadata": {},
   "source": [
    "## Resultados\n",
    "\n",
    "### Corremos la simulación para diferentes tamaños de muestra"
   ]
  },
  {
   "cell_type": "code",
   "execution_count": 36,
   "id": "c3b235b1-13ed-4378-a949-188df4781222",
   "metadata": {
    "scrolled": true
   },
   "outputs": [
    {
     "ename": "SyntaxError",
     "evalue": "invalid syntax (1707712899.py, line 2)",
     "output_type": "error",
     "traceback": [
      "\u001b[0;36m  Input \u001b[0;32mIn [36]\u001b[0;36m\u001b[0m\n\u001b[0;31m    'prom': [],\u001b[0m\n\u001b[0m          ^\u001b[0m\n\u001b[0;31mSyntaxError\u001b[0m\u001b[0;31m:\u001b[0m invalid syntax\n"
     ]
    }
   ],
   "source": [
    "resultados = [\n",
    "    'prom': [],\n",
    "    'var': [],\n",
    "    'devstd': [],\n",
    "    't': []\n",
    "]\n",
    "\n",
    "tam = [10, 10**2, 10**3, 10**4, 10**5, 10**6]\n",
    "\n",
    "for n in tam:\n",
    "    (promedio, v, t) = EstimacionMonteCarlo(n, sortearX)\n",
    "    devstd = math.sqrt( v*n)\n",
    "    resultados['prom'].append(promedio)\n",
    "    resultados['var'].append(v)\n",
    "    resultados['devstd'].append(devstd)\n",
    "    resultados['t'].append(t)\n",
    "# end for\n",
    "\n",
    "for n in range(tam):\n",
    "    print(f\"{resultados[n]['prom']:.2f} hs\")"
   ]
  },
  {
   "cell_type": "code",
   "execution_count": null,
   "id": "82ce2344",
   "metadata": {},
   "outputs": [],
   "source": []
  },
  {
   "cell_type": "code",
   "execution_count": null,
   "id": "e4f62ea1",
   "metadata": {},
   "outputs": [],
   "source": []
  }
 ],
 "metadata": {
  "kernelspec": {
   "display_name": "Python 3 (ipykernel)",
   "language": "python",
   "name": "python3"
  },
  "language_info": {
   "codemirror_mode": {
    "name": "ipython",
    "version": 3
   },
   "file_extension": ".py",
   "mimetype": "text/x-python",
   "name": "python",
   "nbconvert_exporter": "python",
   "pygments_lexer": "ipython3",
   "version": "3.8.2"
  }
 },
 "nbformat": 4,
 "nbformat_minor": 5
}
