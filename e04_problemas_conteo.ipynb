{
 "cells": [
  {
   "cell_type": "markdown",
   "id": "907cee1f",
   "metadata": {},
   "source": [
    "# Métodos Montecarlo Fing 2022 - Entrega 4 \n",
    "\n",
    "**Autor**: Carlos M. Martinez, mayo 2022. \n",
    "\n",
    "**Email**: carlosm@fing.edu.uy, carlos@cagnazzo.uy\n",
    "\n",
    "## Ejercicio 7.1\n",
    "\n",
    "**Problema:** supongamos que un programa de posgrado incluye un conjunto\n",
    "de P profesores y otro de S estudiantes, y que se desea asignar a cada\n",
    "estudiante un profesor para consultas, pero que todas las personas son de\n",
    "diferentes pa´ıses y comprenden distintos idiomas. Si cada estudiante tiene\n",
    "asignado un profesor para consultas, la cantidad total de formas de asignar\n",
    "profesores a los estudiantes es P^S (hay P opciones para cada estudiante, y\n",
    "S estudiantes en total, la cantidad total de opciones es el producto sobre\n",
    "los estudiantes de las opciones de cada estudiante)\n",
    "\n",
    "Supongamos que nos interesa determinar cuantas formas hay de asignar\n",
    "profesores a los estudiantes, respetando que cada profesor asignado a un\n",
    "estudiante tenga un idioma en com´un con ´el (para que puedan\n",
    "comunicarse). Si hay L lenguajes posibles, podemos tener para cada\n",
    "estudiante s un subconjunto Id(s) con los lenguajes que entiende, y lo\n",
    "mismo para cada profesor p; y una asignaci´on s´olo ser´ıa v´alida si para cada\n",
    "16estudiante s y su profesor p(s), se cumple que Id(s) \\ Id(p(s)) 6= ; (estos\n",
    "conjuntos tambi´en podr´ıan representarse como matrices Ids;l e Idp;l, con\n",
    "entradas 1 cuando ese estudiante o profesor entienden el lenguaje l y 0 si\n",
    "no).\n",
    "\n",
    "Para estimar la cantidad de formas distintas de realizar estas asignaciones\n",
    "de profesores y estudiantes, es posible aplicar el m´etodo Monte Carlo.\n",
    "Se debe recibir en entrada el n´umero de replicaciones a realizar, y el nivel\n",
    "de confianza; en salida, se debe dar la estimación del número de\n",
    "combinaciones NC, así como la desviación estándar y un intervalo de\n",
    "confianza (del nivel especificado) calculado en base al criterio de\n",
    "Agresti-Coull.\n"
   ]
  },
  {
   "cell_type": "markdown",
   "id": "82a59289",
   "metadata": {},
   "source": [
    "### Parte a:\n",
    "Escribir un programa para hacer el cálculo previamente\n",
    "descrito. Entregar seudocódigo y código."
   ]
  },
  {
   "cell_type": "code",
   "execution_count": 5,
   "id": "4b7fdb15",
   "metadata": {},
   "outputs": [
    {
     "data": {
      "text/plain": [
       "'Problemas de conteo MMC v0.1.1 - Carlos Martinez mayo 2022'"
      ]
     },
     "execution_count": 5,
     "metadata": {},
     "output_type": "execute_result"
    }
   ],
   "source": [
    "import random\n",
    "import math\n",
    "import pandas\n",
    "from IPython.core.display import HTML\n",
    "random.seed()\n",
    "\n",
    "import cm2c.fing.mmc.conteo as mmcc\n",
    "import cm2c.fing.mmc.utils as mmcutils\n",
    "reloj_ppal = mmcutils.timeit()\n",
    "mmcc.version()"
   ]
  },
  {
   "cell_type": "code",
   "execution_count": 6,
   "id": "4eabefb3",
   "metadata": {},
   "outputs": [
    {
     "name": "stdout",
     "output_type": "stream",
     "text": [
      "%% FIN - tiempo total de ejecución 0.061s\n"
     ]
    }
   ],
   "source": [
    "print(f\"%% FIN - tiempo total de ejecución {reloj_ppal.lap():.3f}s\")"
   ]
  },
  {
   "cell_type": "markdown",
   "id": "70469089",
   "metadata": {},
   "source": [
    "## Código de las funciones desarrolladas\n",
    "\n",
    "Adjunto en el archivo _\"integral.py.pdf\"_."
   ]
  }
 ],
 "metadata": {
  "interpreter": {
   "hash": "02660ba9e28c4086f0f0a2fdb5076d32451f0aa291fdc88708d8d2eeb326b78d"
  },
  "kernelspec": {
   "display_name": "Python 3.8.10 ('fing-montercarlo-2022.git-lPbgG7Xh')",
   "language": "python",
   "name": "python3"
  },
  "language_info": {
   "codemirror_mode": {
    "name": "ipython",
    "version": 3
   },
   "file_extension": ".py",
   "mimetype": "text/x-python",
   "name": "python",
   "nbconvert_exporter": "python",
   "pygments_lexer": "ipython3",
   "version": "3.8.10"
  }
 },
 "nbformat": 4,
 "nbformat_minor": 5
}
